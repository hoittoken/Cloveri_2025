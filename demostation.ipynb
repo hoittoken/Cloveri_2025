{
 "cells": [
  {
   "cell_type": "markdown",
   "metadata": {},
   "source": [
    "## Краткая демонстрация к тестовому заданию\n",
    "\n",
    "Для работы с базой данных нам понадобиться:\n",
    "1. Сама база данных, поднимем бесплатную PostgreSQL на [filess.io](https://filess.io/).\n",
    "2. Фреймворк [SQLAlchemy](https://www.sqlalchemy.org/).\n",
    "3. Немного самодельных классов и функций.\n",
    "\n",
    "Определим:\n",
    "* `config.py` - параметры для установки соединения;\n",
    "* `database.py` - параметры подключения к БД;\n",
    "* `models.py` - классы и объекты с которыми мы будем работать (структуры таблиц);\n",
    "* `core.py` - функции для работы в core (прямом) режиме;\n",
    "* `orm.py` - функции для работы в ORM (объектном) режиме;\n",
    "* `main.py` - непосредственная работа с базой данных;\n",
    "\n",
    "Создаём и наполняем данными таблицы interns, grades и tools"
   ]
  },
  {
   "cell_type": "code",
   "execution_count": 35,
   "metadata": {},
   "outputs": [],
   "source": [
    "from orm import SyncOrm\n",
    "\n",
    "SyncOrm.create_tables()\n",
    "SyncOrm.insert_interns()\n",
    "SyncOrm.insert_grades()\n",
    "SyncOrm.insert_tools()"
   ]
  },
  {
   "cell_type": "markdown",
   "metadata": {},
   "source": [
    "Посмотрим, как составлять базовые запросы\n",
    "\n",
    "Обратимся к базе данных и выведем всю таблицу **interns** экземплярами класса `InternsOrm`, который имеет следующие атрибуты:\n",
    "```python\n",
    "class InternsOrm(Base):\n",
    "    __tablename__ = \"interns\"\n",
    "    __table_args__ = {\"schema\": \"cloveri\"}\n",
    "    id:         Mapped[str] = mapped_column(primary_key=True)\n",
    "    email:      Mapped[str]\n",
    "    name:       Mapped[str]\n",
    "    role:       Mapped[str]\n",
    "    internship: Mapped[str]\n",
    "    start_date: Mapped[datetime.datetime]\n",
    "    end_date:   Mapped[datetime.datetime]\n",
    "    notes:      Mapped[str | None]\n",
    "```"
   ]
  },
  {
   "cell_type": "code",
   "execution_count": 78,
   "metadata": {},
   "outputs": [
    {
     "name": "stdout",
     "output_type": "stream",
     "text": [
      "SELECT cloveri.interns.id, cloveri.interns.email, cloveri.interns.username, cloveri.interns.user_role, cloveri.interns.internship, cloveri.interns.start_date, cloveri.interns.end_date, cloveri.interns.notes \n",
      "FROM cloveri.interns\n",
      "\n",
      "f1 Miguel Aubakirov Кабинет Кловери\n",
      "f2 Miguel Aubakirov MAIBO\n",
      "f3 Nombre Apellido Кабинет Кловери\n",
      "f4 Jose Rodrigues MAIBO\n",
      "f5 Soledad Lorna Платформа для ВУЗов\n"
     ]
    }
   ],
   "source": [
    "from sqlalchemy import select\n",
    "from database import session_factory\n",
    "from models import InternsOrm\n",
    "\n",
    "with session_factory() as session:\n",
    "    stmt = select(InternsOrm)\n",
    "    print(f\"{stmt.compile(compile_kwargs={\"literal_binds\": True})}\\n\")\n",
    "    result = session.execute(stmt)\n",
    "    interns = result.scalars().all()\n",
    "    for model in interns:\n",
    "        print(model.id, model.username, model.internship)"
   ]
  },
  {
   "cell_type": "markdown",
   "metadata": {},
   "source": [
    "Простой запрос с фильтрацией, посмотрим сколько записей в таблице interns есть для пользователя с адресом электронной почты `work.aubakirov@gmail.com`"
   ]
  },
  {
   "cell_type": "code",
   "execution_count": 2,
   "metadata": {},
   "outputs": [
    {
     "name": "stdout",
     "output_type": "stream",
     "text": [
      "SELECT cloveri.interns.id, cloveri.interns.email, cloveri.interns.username, cloveri.interns.user_role, cloveri.interns.internship, cloveri.interns.start_date, cloveri.interns.end_date, cloveri.interns.notes \n",
      "FROM cloveri.interns \n",
      "WHERE (cloveri.interns.email LIKE '%' || 'work.aubakirov@gmail.com' || '%')\n",
      "\n",
      "f1 Miguel Aubakirov Кабинет Кловери Python-программист\n",
      "f2 Miguel Aubakirov MAIBO Python-программист\n"
     ]
    }
   ],
   "source": [
    "from sqlalchemy import select\n",
    "from database import session_factory\n",
    "from models import InternsOrm\n",
    "\n",
    "intern_email = 'work.aubakirov@gmail.com'\n",
    "\n",
    "with session_factory() as session:\n",
    "    query = (\n",
    "        select(InternsOrm)\n",
    "        .filter(InternsOrm.email.contains(intern_email))\n",
    "    )\n",
    "    # выведем на экран сырой запрос, который отправится в базу\n",
    "    print(f\"{query.compile(compile_kwargs={\"literal_binds\": True})}\\n\")\n",
    "    result = session.execute(query)\n",
    "    interns = result.scalars().all()\n",
    "    for model in interns:\n",
    "        print(model.id, model.username, model.internship, model.user_role)"
   ]
  },
  {
   "cell_type": "markdown",
   "metadata": {},
   "source": [
    "Посмотрим количество стажеров в каждом проекте"
   ]
  },
  {
   "cell_type": "code",
   "execution_count": 14,
   "metadata": {},
   "outputs": [
    {
     "name": "stdout",
     "output_type": "stream",
     "text": [
      "SELECT cloveri.interns.internship, count(cloveri.interns.internship) AS count_1 \n",
      "FROM cloveri.interns GROUP BY cloveri.interns.internship ORDER BY cloveri.interns.internship\n",
      "\n",
      "('MAIBO', 2)\n",
      "('Кабинет Кловери', 2)\n",
      "('Платформа для ВУЗов', 1)\n"
     ]
    }
   ],
   "source": [
    "from sqlalchemy import select, func\n",
    "from database import session_factory\n",
    "from models import InternsOrm\n",
    "\n",
    "with session_factory() as session:\n",
    "    query = (\n",
    "        select(InternsOrm.internship, func.count(InternsOrm.internship))\n",
    "        .group_by(InternsOrm.internship)\n",
    "        .order_by(InternsOrm.internship)\n",
    "    )\n",
    "    # выведем на экран сырой запрос, который отправится в базу\n",
    "    print(f\"{query.compile(compile_kwargs={\"literal_binds\": True})}\\n\")\n",
    "    result = session.execute(query)\n",
    "    interns = result.all()\n",
    "    for model in interns:\n",
    "        print(model)"
   ]
  },
  {
   "cell_type": "markdown",
   "metadata": {},
   "source": [
    "Объединим все таблицы в одну, получим их как объекты класса `InternsOrm` и `Pandas.DataFrame`."
   ]
  },
  {
   "cell_type": "code",
   "execution_count": 80,
   "metadata": {},
   "outputs": [
    {
     "name": "stdout",
     "output_type": "stream",
     "text": [
      "SELECT i.id, i.email, i.username, i.user_role, i.internship, i.start_date, i.end_date, i.notes, g.intern_id, g.id AS id_1, g.ai, g.programming, g.architecture, g.project_management, g.communication, g.personnel_management, g.information_management, g.infrastructure, g.data_management, g.math, g.data_analysis, g.visual, g.ux_ui, g.seo, g.typografy, g.skill18, g.skill19, g.skill20, t.id AS id_2, t.user_role AS user_role_1, t.internship AS internship_1, t.pycaret, t.random_forest, t.anomaly_detection, t.gradient_boosting, t.cluster_analysis, t.k_fold, t.optuna, t.shap, t.tsfresh, t.sklearn_feature_selection, t.imblearn, t.streamlit, t.selenium, t.allure, t.nose, t.simpletest, t.docker, t.jira, t.adobe_xd, t.figma, t.mockplus, t.yandex_metrika, t.google_analytics, t.sketch, t.fontjoy, t.sqlalchemy, t.postgresql, t.git, t.django \n",
      "FROM cloveri.grades AS g JOIN cloveri.interns AS i ON i.id = g.intern_id JOIN cloveri.tools AS t ON i.user_role = t.user_role \n",
      "WHERE i.internship = t.internship\n",
      "\n",
      "<models.InternsOrm object at 0x000001B2E6896DE0>\n",
      "<models.InternsOrm object at 0x000001B2E6894FB0>\n",
      "<models.InternsOrm object at 0x000001B2E6896F90>\n",
      "<models.InternsOrm object at 0x000001B2E6895F70>\n",
      "<models.InternsOrm object at 0x000001B2E6896480>\n"
     ]
    },
    {
     "data": {
      "text/plain": [
       "id                                              f1\n",
       "email                     work.aubakirov@gmail.com\n",
       "username                          Miguel Aubakirov\n",
       "user_role                       Python-программист\n",
       "internship                         Кабинет Кловери\n",
       "start_date                     2025-01-15 00:00:00\n",
       "end_date                       2025-04-28 00:00:00\n",
       "intern_id                                       f1\n",
       "id_1                                            g1\n",
       "ai                                             4.4\n",
       "programming                                    4.2\n",
       "architecture                                   3.4\n",
       "project_management                             4.0\n",
       "communication                                  5.4\n",
       "personnel_management                           3.4\n",
       "information_management                         5.4\n",
       "infrastructure                                 4.7\n",
       "data_management                                3.4\n",
       "math                                           5.8\n",
       "data_analysis                                  4.0\n",
       "id_2                                            t1\n",
       "user_role_1                     Python-программист\n",
       "internship_1                       Кабинет Кловери\n",
       "pycaret                                       True\n",
       "optuna                                        True\n",
       "docker                                        True\n",
       "jira                                          True\n",
       "sqlalchemy                                    True\n",
       "postgresql                                    True\n",
       "git                                           True\n",
       "django                                        True\n",
       "Name: 0, dtype: object"
      ]
     },
     "execution_count": 80,
     "metadata": {},
     "output_type": "execute_result"
    }
   ],
   "source": [
    "from sqlalchemy import select, func\n",
    "from sqlalchemy.orm import aliased\n",
    "from database import session_factory\n",
    "from models import InternsOrm, GradesOrm, ToolsOrm\n",
    "\n",
    "import pandas as pd\n",
    "\n",
    "i = aliased(InternsOrm, name=\"i\")\n",
    "g = aliased(GradesOrm, name=\"g\")\n",
    "t = aliased(ToolsOrm, name=\"t\")\n",
    "\n",
    "with session_factory() as session:\n",
    "    stmt = (select(i, g, t)\n",
    "            .join(i, i.id == g.intern_id)\n",
    "            .join(t, i.user_role == t.user_role)\n",
    "            .where(i.internship == t.internship))\n",
    "    print(f\"{stmt.compile(compile_kwargs={\"literal_binds\": True})}\\n\")\n",
    "    result = session.execute(stmt)\n",
    "    interns = result.scalars().all()\n",
    "    for model in interns:\n",
    "        print(model)\n",
    "    # для удобства запишем результат запроса в pandas\n",
    "    df = pd.read_sql(stmt, session.bind)\n",
    "\n",
    "df.iloc[0].dropna()"
   ]
  },
  {
   "cell_type": "markdown",
   "metadata": {},
   "source": [
    "В тестовом задании просили написать SQL-запрос, который выведет все сертификаты, для которых не заданы навыки, которые есть у владельца сертификата.\n",
    "\n",
    "Пользователь Miguel Aubakirov, прошедший стажировку в Кабинете Кловери на позиции Python-программиста имеет следующие навыки:"
   ]
  },
  {
   "cell_type": "code",
   "execution_count": 93,
   "metadata": {},
   "outputs": [
    {
     "name": "stdout",
     "output_type": "stream",
     "text": [
      "SELECT t.id, t.user_role, t.internship, t.pycaret, t.random_forest, t.anomaly_detection, t.gradient_boosting, t.cluster_analysis, t.k_fold, t.optuna, t.shap, t.tsfresh, t.sklearn_feature_selection, t.imblearn, t.streamlit, t.selenium, t.allure, t.nose, t.simpletest, t.docker, t.jira, t.adobe_xd, t.figma, t.mockplus, t.yandex_metrika, t.google_analytics, t.sketch, t.fontjoy, t.sqlalchemy, t.postgresql, t.git, t.django \n",
      "FROM cloveri.tools AS t JOIN cloveri.interns AS i ON i.user_role = t.user_role \n",
      "WHERE i.internship = t.internship\n",
      "\n",
      "<models.ToolsOrm object at 0x000001B2E68C6E70>\n",
      "<models.ToolsOrm object at 0x000001B2E68C6E70>\n",
      "<models.ToolsOrm object at 0x000001B2E68C7350>\n",
      "<models.ToolsOrm object at 0x000001B2E68C7B30>\n",
      "<models.ToolsOrm object at 0x000001B2E68C4B30>\n"
     ]
    },
    {
     "data": {
      "text/plain": [
       "Index(['id', 'user_role', 'internship', 'pycaret', 'random_forest',\n",
       "       'anomaly_detection', 'gradient_boosting', 'cluster_analysis', 'k_fold',\n",
       "       'optuna', 'shap', 'tsfresh', 'sklearn_feature_selection', 'imblearn',\n",
       "       'streamlit', 'selenium', 'allure', 'nose', 'simpletest', 'docker',\n",
       "       'jira', 'adobe_xd', 'figma', 'mockplus', 'yandex_metrika',\n",
       "       'google_analytics', 'sketch', 'fontjoy', 'sqlalchemy', 'postgresql',\n",
       "       'git', 'django'],\n",
       "      dtype='object')"
      ]
     },
     "execution_count": 93,
     "metadata": {},
     "output_type": "execute_result"
    }
   ],
   "source": [
    "from sqlalchemy import select, func\n",
    "from sqlalchemy.orm import aliased\n",
    "from database import session_factory\n",
    "from models import InternsOrm, GradesOrm, ToolsOrm\n",
    "\n",
    "import pandas as pd\n",
    "\n",
    "i = aliased(InternsOrm, name=\"i\")\n",
    "t = aliased(ToolsOrm, name=\"t\")\n",
    "\n",
    "with session_factory() as session:\n",
    "    stmt = (select(t)\n",
    "            .join(i, i.user_role == t.user_role and i.internship == t.internship)\n",
    "            .filter(i.internship == t.internship)\n",
    "            .filter()\n",
    "            )\n",
    "    print(f\"{stmt.compile(compile_kwargs={\"literal_binds\": True})}\\n\")\n",
    "    result = session.execute(stmt)\n",
    "    interns = result.scalars().all()\n",
    "    for model in interns:\n",
    "        print(model)\n",
    "    # для удобства запишем результат запроса в pandas\n",
    "    df = pd.read_sql(stmt, session.bind)\n",
    "\n",
    "df.iloc[0].index"
   ]
  },
  {
   "cell_type": "code",
   "execution_count": 85,
   "metadata": {},
   "outputs": [
    {
     "data": {
      "text/plain": [
       "Index(['pycaret', 'optuna', 'docker', 'jira', 'sqlalchemy', 'postgresql',\n",
       "       'git', 'django'],\n",
       "      dtype='object')"
      ]
     },
     "execution_count": 85,
     "metadata": {},
     "output_type": "execute_result"
    }
   ],
   "source": [
    "df.iloc[0].dropna().index[3:]"
   ]
  },
  {
   "cell_type": "markdown",
   "metadata": {},
   "source": [
    "SELECT json_object_keys(to_json(json_populate_record(NULL::cloveri.tools, '{}'::JSON)))"
   ]
  },
  {
   "cell_type": "code",
   "execution_count": 113,
   "metadata": {},
   "outputs": [
    {
     "name": "stdout",
     "output_type": "stream",
     "text": [
      "SELECT t.id, t.user_role, t.internship, t.pycaret, t.random_forest, t.anomaly_detection, t.gradient_boosting, t.cluster_analysis, t.k_fold, t.optuna, t.shap, t.tsfresh, t.sklearn_feature_selection, t.imblearn, t.streamlit, t.selenium, t.allure, t.nose, t.simpletest, t.docker, t.jira, t.adobe_xd, t.figma, t.mockplus, t.yandex_metrika, t.google_analytics, t.sketch, t.fontjoy, t.sqlalchemy, t.postgresql, t.git, t.django \n",
      "FROM cloveri.tools AS t JOIN cloveri.interns AS i ON i.user_role = t.user_role \n",
      "WHERE i.internship = t.internship AND i.id = 'f1'\n",
      "\n"
     ]
    }
   ],
   "source": [
    "with session_factory() as session:\n",
    "    stmt = (select(t)\n",
    "            .join(i, i.user_role == t.user_role and i.internship == t.internship)\n",
    "            .filter(i.internship == t.internship)\n",
    "            .filter(i.id == 'f1')\n",
    "            )\n",
    "    print(f\"{stmt.compile(compile_kwargs={\"literal_binds\": True})}\\n\")"
   ]
  },
  {
   "cell_type": "code",
   "execution_count": 97,
   "metadata": {},
   "outputs": [
    {
     "data": {
      "text/plain": [
       "['id',\n",
       " 'user_role',\n",
       " 'internship',\n",
       " 'pycaret',\n",
       " 'random_forest',\n",
       " 'anomaly_detection',\n",
       " 'gradient_boosting',\n",
       " 'cluster_analysis',\n",
       " 'k_fold',\n",
       " 'optuna',\n",
       " 'shap',\n",
       " 'tsfresh',\n",
       " 'sklearn_feature_selection',\n",
       " 'imblearn',\n",
       " 'streamlit',\n",
       " 'selenium',\n",
       " 'allure',\n",
       " 'nose',\n",
       " 'simpletest',\n",
       " 'docker',\n",
       " 'jira',\n",
       " 'adobe_xd',\n",
       " 'figma',\n",
       " 'mockplus',\n",
       " 'yandex_metrika',\n",
       " 'google_analytics',\n",
       " 'sketch',\n",
       " 'fontjoy',\n",
       " 'sqlalchemy',\n",
       " 'postgresql',\n",
       " 'git',\n",
       " 'django']"
      ]
     },
     "execution_count": 97,
     "metadata": {},
     "output_type": "execute_result"
    }
   ],
   "source": [
    "from sqlalchemy import inspect\n",
    "\n",
    "inst = inspect(model)\n",
    "attr_names = [c_attr.key for c_attr in inst.mapper.column_attrs]\n",
    "attr_names"
   ]
  },
  {
   "cell_type": "code",
   "execution_count": 103,
   "metadata": {},
   "outputs": [
    {
     "name": "stdout",
     "output_type": "stream",
     "text": [
      "cloveri.tools\n"
     ]
    }
   ],
   "source": [
    "print(inspect(model.__table__))"
   ]
  }
 ],
 "metadata": {
  "kernelspec": {
   "display_name": "base",
   "language": "python",
   "name": "python3"
  },
  "language_info": {
   "codemirror_mode": {
    "name": "ipython",
    "version": 3
   },
   "file_extension": ".py",
   "mimetype": "text/x-python",
   "name": "python",
   "nbconvert_exporter": "python",
   "pygments_lexer": "ipython3",
   "version": "3.12.3"
  }
 },
 "nbformat": 4,
 "nbformat_minor": 2
}
