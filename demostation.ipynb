{
 "cells": [
  {
   "cell_type": "markdown",
   "metadata": {},
   "source": [
    "## Краткая демонстрация к тестовому заданию\n",
    "\n",
    "Для работы с базой данных нам понадобиться:\n",
    "1. Сама база данных, поднимем бесплатную PostgreSQL на [filess.io](https://filess.io/).\n",
    "2. Фреймворк [SQLAlchemy](https://www.sqlalchemy.org/).\n",
    "3. Немного самодельных классов и функций.\n",
    "\n",
    "Определим:\n",
    "* `config.py` - параметры для установки соединения;\n",
    "* `database.py` - параметры подключения к БД;\n",
    "* `models.py` - классы и объекты с которыми мы будем работать (структуры таблиц);\n",
    "* `core.py` - функции для работы в core (прямом) режиме;\n",
    "* `orm.py` - функции для работы в ORM (объектном) режиме;\n",
    "* `main.py` - непосредственная работа с базой данных;\n",
    "\n",
    "Создаём и наполняем данными таблицы interns, grades и tools"
   ]
  },
  {
   "cell_type": "code",
   "execution_count": 1,
   "metadata": {},
   "outputs": [],
   "source": [
    "from orm import SyncOrm\n",
    "\n",
    "SyncOrm.create_tables()\n",
    "SyncOrm.insert_interns()\n",
    "SyncOrm.insert_grades()\n",
    "SyncOrm.insert_tools()\n",
    "\n",
    "SyncOrm.update_interns()"
   ]
  },
  {
   "cell_type": "markdown",
   "metadata": {},
   "source": [
    "Посмотрим, как составлять базовые запросы\n",
    "\n",
    "Обратимся к базе данных и выведем всю таблицу **interns** экземплярами класса `InternsOrm`, который имеет следующие атрибуты:\n",
    "```python\n",
    "class InternsOrm(Base):\n",
    "    __tablename__ = \"interns\"\n",
    "    __table_args__ = {\"schema\": \"cloveri\"}\n",
    "    id:         Mapped[str] = mapped_column(primary_key=True)\n",
    "    email:      Mapped[str]\n",
    "    name:       Mapped[str]\n",
    "    role:       Mapped[str]\n",
    "    internship: Mapped[str]\n",
    "    start_date: Mapped[datetime.datetime]\n",
    "    end_date:   Mapped[datetime.datetime]\n",
    "    notes:      Mapped[str | None]\n",
    "```"
   ]
  },
  {
   "cell_type": "code",
   "execution_count": 2,
   "metadata": {},
   "outputs": [
    {
     "name": "stdout",
     "output_type": "stream",
     "text": [
      "SELECT cloveri.interns.id, cloveri.interns.email, cloveri.interns.username, cloveri.interns.user_role, cloveri.interns.internship, cloveri.interns.start_date, cloveri.interns.end_date, cloveri.interns.notes \n",
      "FROM cloveri.interns\n",
      "\n",
      "f1 Miguel Aubakirov Кабинет Кловери\n",
      "f2 Miguel Aubakirov MAIBO\n",
      "f4 Jose Rodrigues MAIBO\n",
      "f5 Soledad Lorna Платформа для ВУЗов\n",
      "f3 Ricardo Blanco Кабинет Кловери\n"
     ]
    }
   ],
   "source": [
    "from sqlalchemy import select\n",
    "from database import session_factory\n",
    "from models import InternsOrm\n",
    "\n",
    "with session_factory() as session:\n",
    "    stmt = select(InternsOrm)\n",
    "    print(f\"{stmt.compile(compile_kwargs={\"literal_binds\": True})}\\n\")\n",
    "    result = session.execute(stmt)\n",
    "    interns = result.scalars().all()\n",
    "    for model in interns:\n",
    "        print(model.id, model.username, model.internship)"
   ]
  },
  {
   "cell_type": "markdown",
   "metadata": {},
   "source": [
    "Простой запрос с фильтрацией, посмотрим сколько записей в таблице interns есть для пользователя с адресом электронной почты `work.aubakirov@gmail.com`"
   ]
  },
  {
   "cell_type": "code",
   "execution_count": 3,
   "metadata": {},
   "outputs": [
    {
     "name": "stdout",
     "output_type": "stream",
     "text": [
      "SELECT cloveri.interns.id, cloveri.interns.email, cloveri.interns.username, cloveri.interns.user_role, cloveri.interns.internship, cloveri.interns.start_date, cloveri.interns.end_date, cloveri.interns.notes \n",
      "FROM cloveri.interns \n",
      "WHERE (cloveri.interns.email LIKE '%' || 'work.aubakirov@gmail.com' || '%')\n",
      "\n",
      "f1 Miguel Aubakirov Кабинет Кловери Python-программист\n",
      "f2 Miguel Aubakirov MAIBO Python-программист\n"
     ]
    }
   ],
   "source": [
    "from sqlalchemy import select\n",
    "from database import session_factory\n",
    "from models import InternsOrm\n",
    "\n",
    "intern_email = 'work.aubakirov@gmail.com'\n",
    "\n",
    "with session_factory() as session:\n",
    "    query = (\n",
    "        select(InternsOrm)\n",
    "        .filter(InternsOrm.email.contains(intern_email))\n",
    "    )\n",
    "    # выведем на экран сырой запрос, который отправится в базу\n",
    "    print(f\"{query.compile(compile_kwargs={\"literal_binds\": True})}\\n\")\n",
    "    result = session.execute(query)\n",
    "    interns = result.scalars().all()\n",
    "    for model in interns:\n",
    "        print(model.id, model.username, model.internship, model.user_role)"
   ]
  },
  {
   "cell_type": "markdown",
   "metadata": {},
   "source": [
    "Посмотрим количество стажеров в каждом проекте"
   ]
  },
  {
   "cell_type": "code",
   "execution_count": 4,
   "metadata": {},
   "outputs": [
    {
     "name": "stdout",
     "output_type": "stream",
     "text": [
      "SELECT cloveri.interns.internship, count(cloveri.interns.internship) AS count_1 \n",
      "FROM cloveri.interns GROUP BY cloveri.interns.internship ORDER BY cloveri.interns.internship\n",
      "\n",
      "('MAIBO', 2)\n",
      "('Кабинет Кловери', 2)\n",
      "('Платформа для ВУЗов', 1)\n"
     ]
    }
   ],
   "source": [
    "from sqlalchemy import select, func\n",
    "from database import session_factory\n",
    "from models import InternsOrm\n",
    "\n",
    "with session_factory() as session:\n",
    "    query = (\n",
    "        select(InternsOrm.internship, func.count(InternsOrm.internship))\n",
    "        .group_by(InternsOrm.internship)\n",
    "        .order_by(InternsOrm.internship)\n",
    "    )\n",
    "    # выведем на экран сырой запрос, который отправится в базу\n",
    "    print(f\"{query.compile(compile_kwargs={\"literal_binds\": True})}\\n\")\n",
    "    result = session.execute(query)\n",
    "    interns = result.all()\n",
    "    for model in interns:\n",
    "        print(model)"
   ]
  },
  {
   "cell_type": "markdown",
   "metadata": {},
   "source": [
    "Объединим все таблицы в одну, получим их как объекты класса `InternsOrm` и для наглядности `Pandas.DataFrame`."
   ]
  },
  {
   "cell_type": "code",
   "execution_count": 5,
   "metadata": {},
   "outputs": [
    {
     "name": "stdout",
     "output_type": "stream",
     "text": [
      "SELECT i.id, i.email, i.username, i.user_role, i.internship, i.start_date, i.end_date, i.notes, g.intern_id, g.id AS id_1, g.ai, g.programming, g.architecture, g.project_management, g.communication, g.personnel_management, g.information_management, g.infrastructure, g.data_management, g.math, g.data_analysis, g.visual, g.ux_ui, g.seo, g.typografy, g.skill18, g.skill19, g.skill20, t.id AS id_2, t.user_role AS user_role_1, t.internship AS internship_1, t.pycaret, t.random_forest, t.anomaly_detection, t.gradient_boosting, t.cluster_analysis, t.k_fold, t.optuna, t.shap, t.tsfresh, t.sklearn_feature_selection, t.imblearn, t.streamlit, t.selenium, t.allure, t.nose, t.simpletest, t.docker, t.jira, t.adobe_xd, t.figma, t.mockplus, t.yandex_metrika, t.google_analytics, t.sketch, t.fontjoy, t.sqlalchemy, t.postgresql, t.git, t.django \n",
      "FROM cloveri.grades AS g JOIN cloveri.interns AS i ON i.id = g.intern_id JOIN cloveri.tools AS t ON i.user_role = t.user_role \n",
      "WHERE i.internship = t.internship\n",
      "\n",
      "<models.InternsOrm object at 0x000001FF3B6D7230>\n",
      "<models.InternsOrm object at 0x000001FF3BFAD640>\n",
      "<models.InternsOrm object at 0x000001FF3BFAD6D0>\n",
      "<models.InternsOrm object at 0x000001FF3BFAD730>\n",
      "<models.InternsOrm object at 0x000001FF3BFAD7C0>\n"
     ]
    },
    {
     "data": {
      "text/html": [
       "<div>\n",
       "<style scoped>\n",
       "    .dataframe tbody tr th:only-of-type {\n",
       "        vertical-align: middle;\n",
       "    }\n",
       "\n",
       "    .dataframe tbody tr th {\n",
       "        vertical-align: top;\n",
       "    }\n",
       "\n",
       "    .dataframe thead th {\n",
       "        text-align: right;\n",
       "    }\n",
       "</style>\n",
       "<table border=\"1\" class=\"dataframe\">\n",
       "  <thead>\n",
       "    <tr style=\"text-align: right;\">\n",
       "      <th></th>\n",
       "      <th>id</th>\n",
       "      <th>email</th>\n",
       "      <th>username</th>\n",
       "      <th>user_role</th>\n",
       "      <th>internship</th>\n",
       "      <th>start_date</th>\n",
       "      <th>end_date</th>\n",
       "      <th>notes</th>\n",
       "      <th>intern_id</th>\n",
       "      <th>id_1</th>\n",
       "      <th>...</th>\n",
       "      <th>figma</th>\n",
       "      <th>mockplus</th>\n",
       "      <th>yandex_metrika</th>\n",
       "      <th>google_analytics</th>\n",
       "      <th>sketch</th>\n",
       "      <th>fontjoy</th>\n",
       "      <th>sqlalchemy</th>\n",
       "      <th>postgresql</th>\n",
       "      <th>git</th>\n",
       "      <th>django</th>\n",
       "    </tr>\n",
       "  </thead>\n",
       "  <tbody>\n",
       "    <tr>\n",
       "      <th>0</th>\n",
       "      <td>f1</td>\n",
       "      <td>work.aubakirov@gmail.com</td>\n",
       "      <td>Miguel Aubakirov</td>\n",
       "      <td>Python-программист</td>\n",
       "      <td>Кабинет Кловери</td>\n",
       "      <td>2025-01-15</td>\n",
       "      <td>2025-04-28</td>\n",
       "      <td>None</td>\n",
       "      <td>f1</td>\n",
       "      <td>g1</td>\n",
       "      <td>...</td>\n",
       "      <td>None</td>\n",
       "      <td>None</td>\n",
       "      <td>None</td>\n",
       "      <td>None</td>\n",
       "      <td>None</td>\n",
       "      <td>None</td>\n",
       "      <td>True</td>\n",
       "      <td>True</td>\n",
       "      <td>True</td>\n",
       "      <td>True</td>\n",
       "    </tr>\n",
       "    <tr>\n",
       "      <th>1</th>\n",
       "      <td>f2</td>\n",
       "      <td>work.aubakirov@gmail.com</td>\n",
       "      <td>Miguel Aubakirov</td>\n",
       "      <td>Python-программист</td>\n",
       "      <td>MAIBO</td>\n",
       "      <td>2025-01-15</td>\n",
       "      <td>2025-04-28</td>\n",
       "      <td>None</td>\n",
       "      <td>f2</td>\n",
       "      <td>g2</td>\n",
       "      <td>...</td>\n",
       "      <td>None</td>\n",
       "      <td>None</td>\n",
       "      <td>None</td>\n",
       "      <td>None</td>\n",
       "      <td>None</td>\n",
       "      <td>None</td>\n",
       "      <td>True</td>\n",
       "      <td>True</td>\n",
       "      <td>True</td>\n",
       "      <td>True</td>\n",
       "    </tr>\n",
       "    <tr>\n",
       "      <th>2</th>\n",
       "      <td>f3</td>\n",
       "      <td>sample@gmail.com</td>\n",
       "      <td>Ricardo Blanco</td>\n",
       "      <td>Python-программист</td>\n",
       "      <td>Кабинет Кловери</td>\n",
       "      <td>2025-01-15</td>\n",
       "      <td>2025-04-28</td>\n",
       "      <td>None</td>\n",
       "      <td>f3</td>\n",
       "      <td>g3</td>\n",
       "      <td>...</td>\n",
       "      <td>None</td>\n",
       "      <td>None</td>\n",
       "      <td>None</td>\n",
       "      <td>None</td>\n",
       "      <td>None</td>\n",
       "      <td>None</td>\n",
       "      <td>True</td>\n",
       "      <td>True</td>\n",
       "      <td>True</td>\n",
       "      <td>True</td>\n",
       "    </tr>\n",
       "    <tr>\n",
       "      <th>3</th>\n",
       "      <td>f4</td>\n",
       "      <td>sample1@gmail.com</td>\n",
       "      <td>Jose Rodrigues</td>\n",
       "      <td>QA-инженер</td>\n",
       "      <td>MAIBO</td>\n",
       "      <td>2025-01-15</td>\n",
       "      <td>2025-04-28</td>\n",
       "      <td>None</td>\n",
       "      <td>f4</td>\n",
       "      <td>g4</td>\n",
       "      <td>...</td>\n",
       "      <td>None</td>\n",
       "      <td>None</td>\n",
       "      <td>None</td>\n",
       "      <td>None</td>\n",
       "      <td>None</td>\n",
       "      <td>None</td>\n",
       "      <td>None</td>\n",
       "      <td>None</td>\n",
       "      <td>True</td>\n",
       "      <td>None</td>\n",
       "    </tr>\n",
       "    <tr>\n",
       "      <th>4</th>\n",
       "      <td>f5</td>\n",
       "      <td>sample2@gmail.com</td>\n",
       "      <td>Soledad Lorna</td>\n",
       "      <td>UX/UI-дизайнер</td>\n",
       "      <td>Платформа для ВУЗов</td>\n",
       "      <td>2025-01-15</td>\n",
       "      <td>2025-02-28</td>\n",
       "      <td>None</td>\n",
       "      <td>f5</td>\n",
       "      <td>g5</td>\n",
       "      <td>...</td>\n",
       "      <td>True</td>\n",
       "      <td>True</td>\n",
       "      <td>True</td>\n",
       "      <td>True</td>\n",
       "      <td>True</td>\n",
       "      <td>True</td>\n",
       "      <td>None</td>\n",
       "      <td>None</td>\n",
       "      <td>None</td>\n",
       "      <td>None</td>\n",
       "    </tr>\n",
       "  </tbody>\n",
       "</table>\n",
       "<p>5 rows × 60 columns</p>\n",
       "</div>"
      ],
      "text/plain": [
       "   id                     email          username           user_role  \\\n",
       "0  f1  work.aubakirov@gmail.com  Miguel Aubakirov  Python-программист   \n",
       "1  f2  work.aubakirov@gmail.com  Miguel Aubakirov  Python-программист   \n",
       "2  f3          sample@gmail.com    Ricardo Blanco  Python-программист   \n",
       "3  f4         sample1@gmail.com    Jose Rodrigues          QA-инженер   \n",
       "4  f5         sample2@gmail.com     Soledad Lorna      UX/UI-дизайнер   \n",
       "\n",
       "            internship start_date   end_date notes intern_id id_1  ...  figma  \\\n",
       "0      Кабинет Кловери 2025-01-15 2025-04-28  None        f1   g1  ...   None   \n",
       "1                MAIBO 2025-01-15 2025-04-28  None        f2   g2  ...   None   \n",
       "2      Кабинет Кловери 2025-01-15 2025-04-28  None        f3   g3  ...   None   \n",
       "3                MAIBO 2025-01-15 2025-04-28  None        f4   g4  ...   None   \n",
       "4  Платформа для ВУЗов 2025-01-15 2025-02-28  None        f5   g5  ...   True   \n",
       "\n",
       "   mockplus  yandex_metrika  google_analytics  sketch  fontjoy  sqlalchemy  \\\n",
       "0      None            None              None    None     None        True   \n",
       "1      None            None              None    None     None        True   \n",
       "2      None            None              None    None     None        True   \n",
       "3      None            None              None    None     None        None   \n",
       "4      True            True              True    True     True        None   \n",
       "\n",
       "   postgresql   git  django  \n",
       "0        True  True    True  \n",
       "1        True  True    True  \n",
       "2        True  True    True  \n",
       "3        None  True    None  \n",
       "4        None  None    None  \n",
       "\n",
       "[5 rows x 60 columns]"
      ]
     },
     "execution_count": 5,
     "metadata": {},
     "output_type": "execute_result"
    }
   ],
   "source": [
    "from sqlalchemy import select, func\n",
    "from sqlalchemy.orm import aliased\n",
    "from database import session_factory\n",
    "from models import InternsOrm, GradesOrm, ToolsOrm\n",
    "\n",
    "import pandas as pd\n",
    "\n",
    "i = aliased(InternsOrm, name=\"i\")\n",
    "g = aliased(GradesOrm, name=\"g\")\n",
    "t = aliased(ToolsOrm, name=\"t\")\n",
    "\n",
    "with session_factory() as session:\n",
    "    stmt = (select(i, g, t)\n",
    "            .join(i, i.id == g.intern_id)\n",
    "            .join(t, i.user_role == t.user_role)\n",
    "            .where(i.internship == t.internship))\n",
    "    print(f\"{stmt.compile(compile_kwargs={\"literal_binds\": True})}\\n\")\n",
    "    result = session.execute(stmt)\n",
    "    interns = result.scalars().all()\n",
    "    for model in interns:\n",
    "        print(model)\n",
    "        # для наглядности запишем результат запроса в pandas\n",
    "    df = pd.read_sql(stmt, session.bind)\n",
    "\n",
    "df"
   ]
  },
  {
   "cell_type": "markdown",
   "metadata": {},
   "source": [
    "___\n",
    "\n",
    "В тестовом задании просили написать SQL-запрос, который выведет все сертификаты, для которых не заданы навыки, которые есть у владельца сертификата.\n",
    "\n",
    "Все навыки хранятся в таблице tools, получим их:\n"
   ]
  },
  {
   "cell_type": "code",
   "execution_count": 6,
   "metadata": {},
   "outputs": [
    {
     "data": {
      "text/plain": [
       "['internship',\n",
       " 'pycaret',\n",
       " 'random_forest',\n",
       " 'anomaly_detection',\n",
       " 'gradient_boosting',\n",
       " 'cluster_analysis',\n",
       " 'k_fold',\n",
       " 'optuna',\n",
       " 'shap',\n",
       " 'tsfresh',\n",
       " 'sklearn_feature_selection',\n",
       " 'imblearn',\n",
       " 'streamlit',\n",
       " 'selenium',\n",
       " 'allure',\n",
       " 'nose',\n",
       " 'simpletest',\n",
       " 'docker',\n",
       " 'jira',\n",
       " 'adobe_xd',\n",
       " 'figma',\n",
       " 'mockplus',\n",
       " 'yandex_metrika',\n",
       " 'google_analytics',\n",
       " 'sketch',\n",
       " 'fontjoy',\n",
       " 'sqlalchemy',\n",
       " 'postgresql',\n",
       " 'git',\n",
       " 'django']"
      ]
     },
     "execution_count": 6,
     "metadata": {},
     "output_type": "execute_result"
    }
   ],
   "source": [
    "from sqlalchemy import inspect\n",
    "from orm import ToolsOrm\n",
    "\n",
    "inst = inspect(ToolsOrm)\n",
    "tools = [c_attr.key for c_attr in inst.mapper.column_attrs]\n",
    "tools = tools[2:]\n",
    "tools"
   ]
  },
  {
   "cell_type": "markdown",
   "metadata": {},
   "source": [
    "Пользователь Miguel Aubakirov, прошедший стажировку в Кабинете Кловери на позиции Python-программиста имеет следующие навыки:"
   ]
  },
  {
   "cell_type": "code",
   "execution_count": 7,
   "metadata": {},
   "outputs": [
    {
     "data": {
      "text/plain": [
       "internship    Кабинет Кловери\n",
       "pycaret                  True\n",
       "optuna                   True\n",
       "docker                   True\n",
       "jira                     True\n",
       "sqlalchemy               True\n",
       "postgresql               True\n",
       "git                      True\n",
       "django                   True\n",
       "Name: 0, dtype: object"
      ]
     },
     "execution_count": 7,
     "metadata": {},
     "output_type": "execute_result"
    }
   ],
   "source": [
    "df.loc[0][tools].dropna()"
   ]
  },
  {
   "cell_type": "markdown",
   "metadata": {},
   "source": [
    "Пройдём по строкам таблицы и поищем где не заполненны соответсвующие инструменты.\n",
    "Найденные индексы, аккуратно сложим в список и по этому списку выведем искомые сертификаты:"
   ]
  },
  {
   "cell_type": "code",
   "execution_count": 16,
   "metadata": {},
   "outputs": [
    {
     "data": {
      "text/plain": [
       "array(['f2', 'f4', 'f5'], dtype=object)"
      ]
     },
     "execution_count": 16,
     "metadata": {},
     "output_type": "execute_result"
    }
   ],
   "source": [
    "mike = df.loc[0][tools]\n",
    "found_index = []\n",
    "for i in df.index:\n",
    "    if len(mike.compare(df.iloc[i][tools])) != 0:\n",
    "        found_index.append(i)\n",
    "df.loc[found_index]['id'].values"
   ]
  },
  {
   "cell_type": "markdown",
   "metadata": {},
   "source": [
    "Жутко костыльно получилось, но мне не хватило трёх дней, на обновление в памяти SQL и изучения SQLAlchemy."
   ]
  }
 ],
 "metadata": {
  "kernelspec": {
   "display_name": "base",
   "language": "python",
   "name": "python3"
  },
  "language_info": {
   "codemirror_mode": {
    "name": "ipython",
    "version": 3
   },
   "file_extension": ".py",
   "mimetype": "text/x-python",
   "name": "python",
   "nbconvert_exporter": "python",
   "pygments_lexer": "ipython3",
   "version": "3.12.3"
  }
 },
 "nbformat": 4,
 "nbformat_minor": 2
}
