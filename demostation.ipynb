{
 "cells": [
  {
   "cell_type": "markdown",
   "metadata": {},
   "source": [
    "## Краткая демонстрация к тестовому заданию\n",
    "\n",
    "Для работы с базой данных нам понадобиться:\n",
    "1. Сама база данных, поднимем бесплатную PostgreSQL на [filess.io](https://filess.io/).\n",
    "2. Фреймворк [SQLAlchemy](https://www.sqlalchemy.org/).\n",
    "3. Немного самодельных классов и функций.\n",
    "\n",
    "Определим:\n",
    "* `config.py` - параметры для установки соединения;\n",
    "* `database.py` - параметры подключения к БД;\n",
    "* `models.py` - классы и объекты с которыми мы будем работать (структуры таблиц);\n",
    "* `core.py` - функции для работы в core (прямом) режиме;\n",
    "* `orm.py` - функции для работы в ORM (объектном) режиме;\n",
    "* `main.py` - непосредственная работа с базой данных;\n",
    "\n",
    "Создаём и наполняем данными таблицы interns, grades и tools"
   ]
  },
  {
   "cell_type": "code",
   "execution_count": 10,
   "metadata": {},
   "outputs": [],
   "source": [
    "from orm import SyncOrm\n",
    "\n",
    "SyncOrm.create_tables()\n",
    "SyncOrm.insert_interns()\n",
    "SyncOrm.insert_grades()\n",
    "SyncOrm.insert_tools()"
   ]
  },
  {
   "cell_type": "markdown",
   "metadata": {},
   "source": [
    "Посмотрим, как составлять базовые запросы\n",
    "\n",
    "Обратимся к базе данных и выведем всю таблицу **interns** экземплярами класса `InternsOrm`, который имеет следующие атрибуты:\n",
    "```python\n",
    "class InternsOrm(Base):\n",
    "    __tablename__ = \"interns\"\n",
    "    __table_args__ = {\"schema\": \"cloveri\"}\n",
    "    id:         Mapped[str] = mapped_column(primary_key=True)\n",
    "    email:      Mapped[str]\n",
    "    name:       Mapped[str]\n",
    "    role:       Mapped[str]\n",
    "    internship: Mapped[str]\n",
    "    start_date: Mapped[datetime.datetime]\n",
    "    end_date:   Mapped[datetime.datetime]\n",
    "    notes:      Mapped[str | None]\n",
    "```"
   ]
  },
  {
   "cell_type": "code",
   "execution_count": 12,
   "metadata": {},
   "outputs": [
    {
     "name": "stdout",
     "output_type": "stream",
     "text": [
      "f1 Miguel Aubakirov Кабинет Кловери\n",
      "f2 Miguel Aubakirov MAIBO\n",
      "f3 Nombre Apellido Кабинет Кловери\n",
      "f4 Jose Rodrigues MAIBO\n",
      "f5 Soledad Lorna Платформа для ВУЗов\n"
     ]
    }
   ],
   "source": [
    "from sqlalchemy import select\n",
    "from database import session_factory\n",
    "from models import InternsOrm\n",
    "\n",
    "with session_factory() as session:\n",
    "    stmt = select(InternsOrm)\n",
    "    result = session.execute(stmt)\n",
    "    interns = result.scalars().all()\n",
    "    for model in interns:\n",
    "        print(model.id, model.username, model.internship)"
   ]
  },
  {
   "cell_type": "markdown",
   "metadata": {},
   "source": [
    "Простой запрос с фильтрацией, посмотрим сколько записей в таблице interns есть для пользователя с адресом электронной почты `work.aubakirov@gmail.com`"
   ]
  },
  {
   "cell_type": "code",
   "execution_count": 13,
   "metadata": {},
   "outputs": [
    {
     "name": "stdout",
     "output_type": "stream",
     "text": [
      "SELECT cloveri.interns.id, cloveri.interns.email, cloveri.interns.username, cloveri.interns.role, cloveri.interns.internship, cloveri.interns.start_date, cloveri.interns.end_date, cloveri.interns.notes \n",
      "FROM cloveri.interns \n",
      "WHERE (cloveri.interns.email LIKE '%' || 'work.aubakirov@gmail.com' || '%')\n",
      "\n",
      "f1 Miguel Aubakirov Кабинет Кловери\n",
      "f2 Miguel Aubakirov MAIBO\n"
     ]
    }
   ],
   "source": [
    "from sqlalchemy import select\n",
    "from database import session_factory\n",
    "from models import InternsOrm\n",
    "\n",
    "intern_email = 'work.aubakirov@gmail.com'\n",
    "\n",
    "with session_factory() as session:\n",
    "    query = (\n",
    "        select(InternsOrm)\n",
    "        .filter(InternsOrm.email.contains(intern_email))\n",
    "    )\n",
    "    # выведем на экран сырой запрос, который отправится в базу\n",
    "    print(f\"{query.compile(compile_kwargs={\"literal_binds\": True})}\\n\")\n",
    "    result = session.execute(query)\n",
    "    interns = result.scalars().all()\n",
    "    for model in interns:\n",
    "        print(model.id, model.username, model.internship)"
   ]
  },
  {
   "cell_type": "markdown",
   "metadata": {},
   "source": [
    "Посмотрим количество стажеров в каждом проекте"
   ]
  },
  {
   "cell_type": "code",
   "execution_count": 14,
   "metadata": {},
   "outputs": [
    {
     "name": "stdout",
     "output_type": "stream",
     "text": [
      "SELECT cloveri.interns.internship, count(cloveri.interns.internship) AS count_1 \n",
      "FROM cloveri.interns GROUP BY cloveri.interns.internship ORDER BY cloveri.interns.internship\n",
      "\n",
      "('MAIBO', 2)\n",
      "('Кабинет Кловери', 2)\n",
      "('Платформа для ВУЗов', 1)\n"
     ]
    }
   ],
   "source": [
    "from sqlalchemy import select, func\n",
    "from database import session_factory\n",
    "from models import InternsOrm\n",
    "\n",
    "with session_factory() as session:\n",
    "    query = (\n",
    "        select(InternsOrm.internship, func.count(InternsOrm.internship))\n",
    "        .group_by(InternsOrm.internship)\n",
    "        .order_by(InternsOrm.internship)\n",
    "    )\n",
    "    # выведем на экран сырой запрос, который отправится в базу\n",
    "    print(f\"{query.compile(compile_kwargs={\"literal_binds\": True})}\\n\")\n",
    "    result = session.execute(query)\n",
    "    interns = result.all()\n",
    "    for model in interns:\n",
    "        print(model)"
   ]
  },
  {
   "cell_type": "code",
   "execution_count": 15,
   "metadata": {},
   "outputs": [
    {
     "name": "stdout",
     "output_type": "stream",
     "text": [
      "SELECT cloveri.tools.id, cloveri.tools.role, cloveri.tools.internship, cloveri.tools.pycaret, cloveri.tools.random_forest, cloveri.tools.\"anomaly_detеction\", cloveri.tools.\"gradient_Boosting\", cloveri.tools.cluster_analysis, cloveri.tools.k_fold, cloveri.tools.optuna, cloveri.tools.shap, cloveri.tools.tsfresh, cloveri.tools.sklearn_feature_selection, cloveri.tools.imblearn, cloveri.tools.streamlit, cloveri.tools.selenium, cloveri.tools.allure, cloveri.tools.nose, cloveri.tools.\"simpleTest\", cloveri.tools.docker, cloveri.tools.jira, cloveri.tools.adobe_xd, cloveri.tools.figma, cloveri.tools.mockplus, cloveri.tools.yandex_metrika, cloveri.tools.google_analytics, cloveri.tools.sketch, cloveri.tools.fontjoy, cloveri.tools.sqlalchemy, cloveri.tools.postgresql, cloveri.tools.git, cloveri.tools.django \n",
      "FROM cloveri.tools\n",
      "\n"
     ]
    }
   ],
   "source": [
    "from sqlalchemy import select, func\n",
    "from database import session_factory\n",
    "from models import ToolsOrm\n",
    "\n",
    "with session_factory() as session:\n",
    "    stmt = select(ToolsOrm)\n",
    "    print(f\"{stmt.compile(compile_kwargs={\"literal_binds\": True})}\\n\")\n",
    "    #result = session.execute(stmt)\n",
    "    #interns = result.scalars().all()\n",
    "    #for model in interns:\n",
    "    #    print(model)"
   ]
  },
  {
   "cell_type": "code",
   "execution_count": null,
   "metadata": {},
   "outputs": [],
   "source": []
  }
 ],
 "metadata": {
  "kernelspec": {
   "display_name": "base",
   "language": "python",
   "name": "python3"
  },
  "language_info": {
   "codemirror_mode": {
    "name": "ipython",
    "version": 3
   },
   "file_extension": ".py",
   "mimetype": "text/x-python",
   "name": "python",
   "nbconvert_exporter": "python",
   "pygments_lexer": "ipython3",
   "version": "3.12.3"
  }
 },
 "nbformat": 4,
 "nbformat_minor": 2
}
